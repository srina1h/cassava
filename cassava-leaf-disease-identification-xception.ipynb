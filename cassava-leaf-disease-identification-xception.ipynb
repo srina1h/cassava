{
 "cells": [
  {
   "cell_type": "markdown",
   "id": "precise-antarctica",
   "metadata": {
    "papermill": {
     "duration": 0.016988,
     "end_time": "2021-06-04T21:31:53.350520",
     "exception": false,
     "start_time": "2021-06-04T21:31:53.333532",
     "status": "completed"
    },
    "tags": []
   },
   "source": [
    "# The Xception model architecture\n",
    "![Xception Model](https://vitalab.github.io/article/images/xception/architecture.png)\n",
    "1. Xception is a depthwise separable convolution network\n",
    "2. Consists of 3 flows entry, middle and exit flows\n",
    "3. There are shortcuts between the many separable Conv layers\n",
    "4. Default **input shape is 299x299x3**\n",
    "\n",
    "> Original paper introducing Xception\n",
    "[Original Paper](https://arxiv.org/abs/1610.02357)"
   ]
  },
  {
   "cell_type": "markdown",
   "id": "champion-paradise",
   "metadata": {
    "papermill": {
     "duration": 0.015534,
     "end_time": "2021-06-04T21:31:53.381224",
     "exception": false,
     "start_time": "2021-06-04T21:31:53.365690",
     "status": "completed"
    },
    "tags": []
   },
   "source": [
    "# Importing packages"
   ]
  },
  {
   "cell_type": "code",
   "execution_count": 1,
   "id": "cloudy-stand",
   "metadata": {
    "execution": {
     "iopub.execute_input": "2021-06-04T21:31:53.426733Z",
     "iopub.status.busy": "2021-06-04T21:31:53.424305Z",
     "iopub.status.idle": "2021-06-04T21:32:00.209309Z",
     "shell.execute_reply": "2021-06-04T21:32:00.208604Z",
     "shell.execute_reply.started": "2021-06-04T21:19:26.374648Z"
    },
    "papermill": {
     "duration": 6.813309,
     "end_time": "2021-06-04T21:32:00.209520",
     "exception": false,
     "start_time": "2021-06-04T21:31:53.396211",
     "status": "completed"
    },
    "tags": []
   },
   "outputs": [],
   "source": [
    "import numpy as np \n",
    "import pandas as pd\n",
    "import matplotlib.pyplot as plt\n",
    "import cv2\n",
    "import os\n",
    "import shutil\n",
    "import keras\n",
    "import skimage.io\n",
    "import keras.backend as K\n",
    "import tensorflow as tf\n",
    "from tensorflow.keras import Input, Model\n",
    "from tensorflow.keras.preprocessing.image import ImageDataGenerator\n",
    "from tensorflow.keras.layers import Dense, Flatten, Dropout,BatchNormalization ,Activation,add\n",
    "from tensorflow.keras.models import Model, Sequential\n",
    "from keras.applications.xception import Xception\n",
    "from keras.preprocessing.image import ImageDataGenerator\n",
    "from keras.utils import to_categorical\n",
    "from keras.layers.experimental.preprocessing import RandomFlip, RandomRotation, RandomCrop, Rescaling, RandomTranslation\n",
    "from keras import Sequential\n",
    "from tqdm import tqdm\n",
    "from tensorflow.keras.callbacks import ReduceLROnPlateau, ModelCheckpoint, EarlyStopping\n",
    "from tensorflow.keras.optimizers import Adam\n",
    "\n",
    "import tensorflow_addons as tfa"
   ]
  },
  {
   "cell_type": "markdown",
   "id": "matched-denial",
   "metadata": {
    "papermill": {
     "duration": 0.014553,
     "end_time": "2021-06-04T21:32:00.239290",
     "exception": false,
     "start_time": "2021-06-04T21:32:00.224737",
     "status": "completed"
    },
    "tags": []
   },
   "source": [
    "# Loading data"
   ]
  },
  {
   "cell_type": "code",
   "execution_count": 2,
   "id": "collectible-nicaragua",
   "metadata": {
    "execution": {
     "iopub.execute_input": "2021-06-04T21:32:00.275759Z",
     "iopub.status.busy": "2021-06-04T21:32:00.275072Z",
     "iopub.status.idle": "2021-06-04T21:32:00.323515Z",
     "shell.execute_reply": "2021-06-04T21:32:00.324105Z",
     "shell.execute_reply.started": "2021-06-04T21:08:43.739707Z"
    },
    "papermill": {
     "duration": 0.070089,
     "end_time": "2021-06-04T21:32:00.324283",
     "exception": false,
     "start_time": "2021-06-04T21:32:00.254194",
     "status": "completed"
    },
    "tags": []
   },
   "outputs": [
    {
     "data": {
      "text/html": [
       "<div>\n",
       "<style scoped>\n",
       "    .dataframe tbody tr th:only-of-type {\n",
       "        vertical-align: middle;\n",
       "    }\n",
       "\n",
       "    .dataframe tbody tr th {\n",
       "        vertical-align: top;\n",
       "    }\n",
       "\n",
       "    .dataframe thead th {\n",
       "        text-align: right;\n",
       "    }\n",
       "</style>\n",
       "<table border=\"1\" class=\"dataframe\">\n",
       "  <thead>\n",
       "    <tr style=\"text-align: right;\">\n",
       "      <th></th>\n",
       "      <th>image_id</th>\n",
       "      <th>label</th>\n",
       "    </tr>\n",
       "  </thead>\n",
       "  <tbody>\n",
       "    <tr>\n",
       "      <th>0</th>\n",
       "      <td>1000015157.jpg</td>\n",
       "      <td>0</td>\n",
       "    </tr>\n",
       "    <tr>\n",
       "      <th>1</th>\n",
       "      <td>1000201771.jpg</td>\n",
       "      <td>3</td>\n",
       "    </tr>\n",
       "    <tr>\n",
       "      <th>2</th>\n",
       "      <td>100042118.jpg</td>\n",
       "      <td>1</td>\n",
       "    </tr>\n",
       "    <tr>\n",
       "      <th>3</th>\n",
       "      <td>1000723321.jpg</td>\n",
       "      <td>1</td>\n",
       "    </tr>\n",
       "    <tr>\n",
       "      <th>4</th>\n",
       "      <td>1000812911.jpg</td>\n",
       "      <td>3</td>\n",
       "    </tr>\n",
       "  </tbody>\n",
       "</table>\n",
       "</div>"
      ],
      "text/plain": [
       "         image_id  label\n",
       "0  1000015157.jpg      0\n",
       "1  1000201771.jpg      3\n",
       "2   100042118.jpg      1\n",
       "3  1000723321.jpg      1\n",
       "4  1000812911.jpg      3"
      ]
     },
     "execution_count": 2,
     "metadata": {},
     "output_type": "execute_result"
    }
   ],
   "source": [
    "root_dir = '../input/cassava-leaf-disease-classification'\n",
    "\n",
    "train_df = pd.read_csv(os.path.join(root_dir, 'train.csv'))\n",
    "\n",
    "train_df.head()"
   ]
  },
  {
   "cell_type": "markdown",
   "id": "opponent-grain",
   "metadata": {
    "papermill": {
     "duration": 0.015155,
     "end_time": "2021-06-04T21:32:00.355069",
     "exception": false,
     "start_time": "2021-06-04T21:32:00.339914",
     "status": "completed"
    },
    "tags": []
   },
   "source": [
    "# Preprocessing data"
   ]
  },
  {
   "cell_type": "code",
   "execution_count": 3,
   "id": "confused-resource",
   "metadata": {
    "execution": {
     "iopub.execute_input": "2021-06-04T21:32:00.396455Z",
     "iopub.status.busy": "2021-06-04T21:32:00.395535Z",
     "iopub.status.idle": "2021-06-04T21:32:03.073461Z",
     "shell.execute_reply": "2021-06-04T21:32:03.072874Z",
     "shell.execute_reply.started": "2021-06-04T21:08:46.653530Z"
    },
    "papermill": {
     "duration": 2.703159,
     "end_time": "2021-06-04T21:32:03.073647",
     "exception": false,
     "start_time": "2021-06-04T21:32:00.370488",
     "status": "completed"
    },
    "tags": []
   },
   "outputs": [],
   "source": [
    "image_preprocessor = Sequential([\n",
    "    RandomFlip(\"horizontal_and_vertical\"),\n",
    "    RandomCrop(150,150),\n",
    "    RandomTranslation(0.3, 0.3),\n",
    "    RandomRotation(0.5),\n",
    "    Rescaling(1./255)])\n",
    "\n",
    "def custom_gen(batch_size, image_dir, h = 150, w = 150):\n",
    "    \n",
    "    start = 0\n",
    "    end = batch_size\n",
    "    images = train_df['image_id']\n",
    "    labels = train_df['label']\n",
    "    while 1:\n",
    "        \n",
    "        if end >= train_df.shape[0]:\n",
    "            start = 0\n",
    "            end = batch_size \n",
    "            continue\n",
    "        else:\n",
    "        \n",
    "            batch = []\n",
    "\n",
    "            if start == 0:\n",
    "                names = images[:end]\n",
    "                y = to_categorical(labels[:end], num_classes = 5)\n",
    "            else:\n",
    "                names = images[start:end]\n",
    "                y = to_categorical(labels[start:end], num_classes = 5)\n",
    "\n",
    "            for name in names:\n",
    "\n",
    "                img = cv2.imread(os.path.join(image_dir,name))\n",
    "                img = np.expand_dims(img, axis = 0)\n",
    "                img = image_preprocessor(img)\n",
    "                img = np.squeeze(img, axis = 0)\n",
    "                batch.append(img)\n",
    "\n",
    "\n",
    "\n",
    "            end = end + batch_size\n",
    "            start = start +  batch_size\n",
    "\n",
    "\n",
    "            yield np.array(batch), y"
   ]
  },
  {
   "cell_type": "markdown",
   "id": "characteristic-tribute",
   "metadata": {
    "papermill": {
     "duration": 0.015073,
     "end_time": "2021-06-04T21:32:03.105999",
     "exception": false,
     "start_time": "2021-06-04T21:32:03.090926",
     "status": "completed"
    },
    "tags": []
   },
   "source": [
    "# Loading VGG19"
   ]
  },
  {
   "cell_type": "code",
   "execution_count": 4,
   "id": "continuous-functionality",
   "metadata": {
    "execution": {
     "iopub.execute_input": "2021-06-04T21:32:03.140663Z",
     "iopub.status.busy": "2021-06-04T21:32:03.140026Z",
     "iopub.status.idle": "2021-06-04T21:32:03.145392Z",
     "shell.execute_reply": "2021-06-04T21:32:03.144850Z",
     "shell.execute_reply.started": "2021-06-04T21:09:05.164156Z"
    },
    "papermill": {
     "duration": 0.024199,
     "end_time": "2021-06-04T21:32:03.145524",
     "exception": false,
     "start_time": "2021-06-04T21:32:03.121325",
     "status": "completed"
    },
    "tags": []
   },
   "outputs": [],
   "source": [
    "os.makedirs('/tmp/.keras/datasets')"
   ]
  },
  {
   "cell_type": "code",
   "execution_count": 5,
   "id": "amazing-restriction",
   "metadata": {
    "execution": {
     "iopub.execute_input": "2021-06-04T21:32:03.179881Z",
     "iopub.status.busy": "2021-06-04T21:32:03.178877Z",
     "iopub.status.idle": "2021-06-04T21:32:15.949437Z",
     "shell.execute_reply": "2021-06-04T21:32:15.948497Z",
     "shell.execute_reply.started": "2021-06-04T21:10:02.118501Z"
    },
    "papermill": {
     "duration": 12.788971,
     "end_time": "2021-06-04T21:32:15.949589",
     "exception": false,
     "start_time": "2021-06-04T21:32:03.160618",
     "status": "completed"
    },
    "tags": []
   },
   "outputs": [
    {
     "data": {
      "text/plain": [
       "'/tmp/.keras/models'"
      ]
     },
     "execution_count": 5,
     "metadata": {},
     "output_type": "execute_result"
    }
   ],
   "source": [
    "shutil.copytree(\"../input/keras-pretrained-models\", \"/tmp/.keras/models\")"
   ]
  },
  {
   "cell_type": "code",
   "execution_count": 6,
   "id": "opened-drill",
   "metadata": {
    "execution": {
     "iopub.execute_input": "2021-06-04T21:32:15.990030Z",
     "iopub.status.busy": "2021-06-04T21:32:15.989385Z",
     "iopub.status.idle": "2021-06-04T21:32:18.495908Z",
     "shell.execute_reply": "2021-06-04T21:32:18.496486Z",
     "shell.execute_reply.started": "2021-06-04T21:22:09.902672Z"
    },
    "papermill": {
     "duration": 2.531151,
     "end_time": "2021-06-04T21:32:18.496693",
     "exception": false,
     "start_time": "2021-06-04T21:32:15.965542",
     "status": "completed"
    },
    "tags": []
   },
   "outputs": [],
   "source": [
    "weights_path = '../input/keras-pretrained-models/xception_weights_tf_dim_ordering_tf_kernels_notop.h5'\n",
    "model_xception = Xception(weights = weights_path, input_shape=(150,150,3),include_top=False)\n",
    "\n",
    "model_xception.trainable = False"
   ]
  },
  {
   "cell_type": "markdown",
   "id": "terminal-korea",
   "metadata": {
    "papermill": {
     "duration": 0.015994,
     "end_time": "2021-06-04T21:32:18.531225",
     "exception": false,
     "start_time": "2021-06-04T21:32:18.515231",
     "status": "completed"
    },
    "tags": []
   },
   "source": [
    "# Model"
   ]
  },
  {
   "cell_type": "code",
   "execution_count": 7,
   "id": "working-furniture",
   "metadata": {
    "execution": {
     "iopub.execute_input": "2021-06-04T21:32:18.575895Z",
     "iopub.status.busy": "2021-06-04T21:32:18.574752Z",
     "iopub.status.idle": "2021-06-04T21:32:19.136812Z",
     "shell.execute_reply": "2021-06-04T21:32:19.137299Z",
     "shell.execute_reply.started": "2021-06-04T17:04:21.795006Z"
    },
    "papermill": {
     "duration": 0.589925,
     "end_time": "2021-06-04T21:32:19.137569",
     "exception": false,
     "start_time": "2021-06-04T21:32:18.547644",
     "status": "completed"
    },
    "tags": []
   },
   "outputs": [
    {
     "name": "stdout",
     "output_type": "stream",
     "text": [
      "Model: \"sequential_1\"\n",
      "_________________________________________________________________\n",
      "Layer (type)                 Output Shape              Param #   \n",
      "=================================================================\n",
      "xception (Functional)        (None, 5, 5, 2048)        20861480  \n",
      "_________________________________________________________________\n",
      "dropout (Dropout)            (None, 5, 5, 2048)        0         \n",
      "_________________________________________________________________\n",
      "flatten (Flatten)            (None, 51200)             0         \n",
      "_________________________________________________________________\n",
      "batch_normalization_4 (Batch (None, 51200)             204800    \n",
      "_________________________________________________________________\n",
      "dense (Dense)                (None, 256)               13107456  \n",
      "_________________________________________________________________\n",
      "batch_normalization_5 (Batch (None, 256)               1024      \n",
      "_________________________________________________________________\n",
      "p_re_lu (PReLU)              (None, 256)               256       \n",
      "_________________________________________________________________\n",
      "dropout_1 (Dropout)          (None, 256)               0         \n",
      "_________________________________________________________________\n",
      "dense_1 (Dense)              (None, 128)               32896     \n",
      "_________________________________________________________________\n",
      "batch_normalization_6 (Batch (None, 128)               512       \n",
      "_________________________________________________________________\n",
      "p_re_lu_1 (PReLU)            (None, 128)               128       \n",
      "_________________________________________________________________\n",
      "dropout_2 (Dropout)          (None, 128)               0         \n",
      "_________________________________________________________________\n",
      "dense_2 (Dense)              (None, 64)                8256      \n",
      "_________________________________________________________________\n",
      "batch_normalization_7 (Batch (None, 64)                256       \n",
      "_________________________________________________________________\n",
      "p_re_lu_2 (PReLU)            (None, 64)                64        \n",
      "_________________________________________________________________\n",
      "dense_3 (Dense)              (None, 5)                 325       \n",
      "=================================================================\n",
      "Total params: 34,217,453\n",
      "Trainable params: 13,252,677\n",
      "Non-trainable params: 20,964,776\n",
      "_________________________________________________________________\n"
     ]
    }
   ],
   "source": [
    "model=Sequential()\n",
    "\n",
    "model.add(model_xception)\n",
    "model.add(Dropout(0.3))\n",
    "model.add(Flatten())\n",
    "model.add(BatchNormalization())\n",
    "model.add(Dense(256))\n",
    "model.add(BatchNormalization())\n",
    "model.add(tf.keras.layers.PReLU(alpha_initializer='zeros', alpha_regularizer=None))\n",
    "model.add(Dropout(0.3))\n",
    "model.add(Dense(128))\n",
    "model.add(BatchNormalization())\n",
    "model.add(tf.keras.layers.PReLU(alpha_initializer='zeros', alpha_regularizer=None))\n",
    "model.add(Dropout(0.3))\n",
    "model.add(Dense(64))\n",
    "model.add(BatchNormalization())\n",
    "model.add(tf.keras.layers.PReLU(alpha_initializer='zeros', alpha_regularizer=None))\n",
    "model.add(Dense(5, activation = 'softmax'))\n",
    "\n",
    "model.summary()"
   ]
  },
  {
   "cell_type": "code",
   "execution_count": 8,
   "id": "civil-store",
   "metadata": {
    "execution": {
     "iopub.execute_input": "2021-06-04T21:32:19.175726Z",
     "iopub.status.busy": "2021-06-04T21:32:19.174991Z",
     "iopub.status.idle": "2021-06-04T21:32:19.179924Z",
     "shell.execute_reply": "2021-06-04T21:32:19.179239Z",
     "shell.execute_reply.started": "2021-06-04T17:04:22.111229Z"
    },
    "papermill": {
     "duration": 0.025596,
     "end_time": "2021-06-04T21:32:19.180053",
     "exception": false,
     "start_time": "2021-06-04T21:32:19.154457",
     "status": "completed"
    },
    "tags": []
   },
   "outputs": [],
   "source": [
    "lrd = ReduceLROnPlateau(monitor = 'val_loss',verbose = 1,factor = 0.75, min_lr = 0.00001)"
   ]
  },
  {
   "cell_type": "code",
   "execution_count": 9,
   "id": "inner-ready",
   "metadata": {
    "execution": {
     "iopub.execute_input": "2021-06-04T21:32:19.222909Z",
     "iopub.status.busy": "2021-06-04T21:32:19.221496Z",
     "iopub.status.idle": "2021-06-04T21:32:19.242500Z",
     "shell.execute_reply": "2021-06-04T21:32:19.241961Z",
     "shell.execute_reply.started": "2021-06-04T17:04:24.630616Z"
    },
    "papermill": {
     "duration": 0.046645,
     "end_time": "2021-06-04T21:32:19.242643",
     "exception": false,
     "start_time": "2021-06-04T21:32:19.195998",
     "status": "completed"
    },
    "tags": []
   },
   "outputs": [],
   "source": [
    "model.compile(optimizer = 'adam', loss = 'categorical_crossentropy',metrics=['accuracy', tfa.metrics.F1Score(num_classes = 5)])"
   ]
  },
  {
   "cell_type": "markdown",
   "id": "burning-period",
   "metadata": {
    "papermill": {
     "duration": 0.016164,
     "end_time": "2021-06-04T21:32:19.275438",
     "exception": false,
     "start_time": "2021-06-04T21:32:19.259274",
     "status": "completed"
    },
    "tags": []
   },
   "source": [
    "# Training model"
   ]
  },
  {
   "cell_type": "code",
   "execution_count": 10,
   "id": "conscious-luther",
   "metadata": {
    "execution": {
     "iopub.execute_input": "2021-06-04T21:32:19.314989Z",
     "iopub.status.busy": "2021-06-04T21:32:19.314133Z",
     "iopub.status.idle": "2021-06-05T00:49:06.769719Z",
     "shell.execute_reply": "2021-06-05T00:49:06.769090Z",
     "shell.execute_reply.started": "2021-06-04T17:12:39.94454Z"
    },
    "papermill": {
     "duration": 11807.47787,
     "end_time": "2021-06-05T00:49:06.769920",
     "exception": false,
     "start_time": "2021-06-04T21:32:19.292050",
     "status": "completed"
    },
    "tags": []
   },
   "outputs": [
    {
     "name": "stdout",
     "output_type": "stream",
     "text": [
      "Epoch 1/20\n",
      "41/41 [==============================] - 744s 18s/step - loss: 1.5136 - accuracy: 0.4015 - f1_score: 0.2219\n",
      "Epoch 2/20\n",
      "41/41 [==============================] - 578s 14s/step - loss: 1.1091 - accuracy: 0.6186 - f1_score: 0.2399\n",
      "Epoch 3/20\n",
      "41/41 [==============================] - 574s 14s/step - loss: 1.0572 - accuracy: 0.6251 - f1_score: 0.2577\n",
      "Epoch 4/20\n",
      "41/41 [==============================] - 582s 14s/step - loss: 1.0363 - accuracy: 0.6336 - f1_score: 0.2896\n",
      "Epoch 5/20\n",
      "41/41 [==============================] - 573s 14s/step - loss: 1.0325 - accuracy: 0.6281 - f1_score: 0.2804\n",
      "Epoch 6/20\n",
      "41/41 [==============================] - 569s 14s/step - loss: 1.0170 - accuracy: 0.6341 - f1_score: 0.2887\n",
      "Epoch 7/20\n",
      "41/41 [==============================] - 571s 14s/step - loss: 1.0047 - accuracy: 0.6365 - f1_score: 0.2962\n",
      "Epoch 8/20\n",
      "41/41 [==============================] - 571s 14s/step - loss: 1.0039 - accuracy: 0.6384 - f1_score: 0.3086\n",
      "Epoch 9/20\n",
      "41/41 [==============================] - 575s 14s/step - loss: 1.0029 - accuracy: 0.6347 - f1_score: 0.3066\n",
      "Epoch 10/20\n",
      "41/41 [==============================] - 577s 14s/step - loss: 0.9929 - accuracy: 0.6387 - f1_score: 0.3089\n",
      "Epoch 11/20\n",
      "41/41 [==============================] - 581s 14s/step - loss: 0.9916 - accuracy: 0.6420 - f1_score: 0.3169\n",
      "Epoch 12/20\n",
      "41/41 [==============================] - 580s 14s/step - loss: 0.9886 - accuracy: 0.6442 - f1_score: 0.3230\n",
      "Epoch 13/20\n",
      "41/41 [==============================] - 581s 14s/step - loss: 0.9907 - accuracy: 0.6385 - f1_score: 0.3106\n",
      "Epoch 14/20\n",
      "41/41 [==============================] - 582s 14s/step - loss: 0.9804 - accuracy: 0.6386 - f1_score: 0.3175\n",
      "Epoch 15/20\n",
      "41/41 [==============================] - 581s 14s/step - loss: 0.9806 - accuracy: 0.6413 - f1_score: 0.3212\n",
      "Epoch 16/20\n",
      "41/41 [==============================] - 585s 14s/step - loss: 0.9847 - accuracy: 0.6450 - f1_score: 0.3307\n",
      "Epoch 17/20\n",
      "41/41 [==============================] - 600s 15s/step - loss: 0.9755 - accuracy: 0.6418 - f1_score: 0.3224\n",
      "Epoch 18/20\n",
      "41/41 [==============================] - 598s 15s/step - loss: 0.9757 - accuracy: 0.6424 - f1_score: 0.3261\n",
      "Epoch 19/20\n",
      "41/41 [==============================] - 590s 14s/step - loss: 0.9675 - accuracy: 0.6490 - f1_score: 0.3370\n",
      "Epoch 20/20\n",
      "41/41 [==============================] - 584s 14s/step - loss: 0.9720 - accuracy: 0.6485 - f1_score: 0.3426\n"
     ]
    }
   ],
   "source": [
    "batch_size = 512\n",
    "epochs = 20\n",
    "steps_per_epoch = train_df.shape[0] // batch_size\n",
    "train_img_dir = os.path.join(root_dir, 'train_images')\n",
    "train_gen = custom_gen(batch_size, train_img_dir)\n",
    "  \n",
    "history = model.fit(train_gen, epochs = epochs, steps_per_epoch = steps_per_epoch,verbose = 1,callbacks=[lrd])"
   ]
  },
  {
   "cell_type": "markdown",
   "id": "caroline-citizen",
   "metadata": {
    "papermill": {
     "duration": 0.304827,
     "end_time": "2021-06-05T00:49:07.378696",
     "exception": false,
     "start_time": "2021-06-05T00:49:07.073869",
     "status": "completed"
    },
    "tags": []
   },
   "source": [
    "# Predictions and submission"
   ]
  },
  {
   "cell_type": "code",
   "execution_count": 11,
   "id": "coordinated-death",
   "metadata": {
    "execution": {
     "iopub.execute_input": "2021-06-05T00:49:07.982449Z",
     "iopub.status.busy": "2021-06-05T00:49:07.981710Z",
     "iopub.status.idle": "2021-06-05T00:49:09.451826Z",
     "shell.execute_reply": "2021-06-05T00:49:09.451131Z",
     "shell.execute_reply.started": "2021-06-04T19:36:59.702819Z"
    },
    "papermill": {
     "duration": 1.777262,
     "end_time": "2021-06-05T00:49:09.451978",
     "exception": false,
     "start_time": "2021-06-05T00:49:07.674716",
     "status": "completed"
    },
    "tags": []
   },
   "outputs": [
    {
     "name": "stderr",
     "output_type": "stream",
     "text": [
      "100%|██████████| 1/1 [00:01<00:00,  1.12s/it]\n",
      "100%|██████████| 1/1 [00:00<00:00, 12.72it/s]\n",
      "100%|██████████| 1/1 [00:00<00:00, 13.63it/s]\n"
     ]
    }
   ],
   "source": [
    "test_leaf = \"../input/cassava-leaf-disease-classification/test_images\"\n",
    "\n",
    "test_names = pd.Series(os.listdir(test_leaf))\n",
    "\n",
    "\n",
    "for j in range(3):\n",
    "\n",
    "    for i in tqdm(range(len(test_names))):\n",
    "\n",
    "        image = cv2.imread(os.path.join(test_leaf, test_names[i]))\n",
    "        image = np.expand_dims(image, axis = 0)\n",
    "        image = image_preprocessor(image)\n",
    "        if i ==0:\n",
    "\n",
    "            pred = model.predict(image)\n",
    "        else:\n",
    "            pred = np.concatenate([pred, model.predict(image)])\n",
    "            \n",
    "    if j ==0:\n",
    "        final = pred\n",
    "    else:\n",
    "        final = final +pred\n",
    "     \n",
    "pred = pd.Series(np.argmax(final, axis = 1))\n",
    "\n",
    "\n",
    "test_df = pd.concat([test_names, pred], axis = 1)\n",
    "test_df = test_df.rename(columns = {0: 'image_id', 1: 'label'})\n",
    "\n",
    "test_df.to_csv('submission.csv', index = False)"
   ]
  }
 ],
 "metadata": {
  "kernelspec": {
   "display_name": "Python 3",
   "language": "python",
   "name": "python3"
  },
  "language_info": {
   "codemirror_mode": {
    "name": "ipython",
    "version": 3
   },
   "file_extension": ".py",
   "mimetype": "text/x-python",
   "name": "python",
   "nbconvert_exporter": "python",
   "pygments_lexer": "ipython3",
   "version": "3.7.10"
  },
  "papermill": {
   "default_parameters": {},
   "duration": 11847.609591,
   "end_time": "2021-06-05T00:49:12.615724",
   "environment_variables": {},
   "exception": null,
   "input_path": "__notebook__.ipynb",
   "output_path": "__notebook__.ipynb",
   "parameters": {},
   "start_time": "2021-06-04T21:31:45.006133",
   "version": "2.3.3"
  }
 },
 "nbformat": 4,
 "nbformat_minor": 5
}
